{
 "cells": [
  {
   "cell_type": "code",
   "execution_count": 1,
   "id": "9f9248cf",
   "metadata": {},
   "outputs": [],
   "source": [
    "#https://codegolf.stackexchange.com/questions/34926/write-a-fast-word-equation-solver"
   ]
  },
  {
   "cell_type": "code",
   "execution_count": 2,
   "id": "d69fc384",
   "metadata": {},
   "outputs": [],
   "source": [
    "def solver(eqn, soln_format = \"eqn\"):\n",
    "    #get weights\n",
    "    weight = -1\n",
    "    weights = {}\n",
    "    for char in reversed(eqn):\n",
    "        if char=='=':\n",
    "            weight=1\n",
    "            continue\n",
    "        if char=='+':\n",
    "            if weight>0:\n",
    "                weight=1\n",
    "            else:\n",
    "                weight=-1\n",
    "            continue\n",
    "        if char not in weights:\n",
    "            weights[char] = 0\n",
    "        weights[char]+= weight\n",
    "        weight*=10\n",
    "    \n",
    "    assert len(weights) <= 10\n",
    "    weights_sorted = list(weights.values()) + [0]*(10-len(weights.values()))\n",
    "    weights_sorted.sort()\n",
    "    \n",
    "    _, order = zip(*sorted(zip(weights_sorted, range(10)), key=lambda x: abs(x[0]), reverse=True)) #abs sorted order\n",
    "    order_list = [num - sum(i<num for i in order[:idx]) for idx, num in enumerate(order)] #because indexes change\n",
    "    order_list = order_list[:len(weights.values())] #to ignore zeros\n",
    "    order_list.reverse() #to pop and append like a stack\n",
    "        \n",
    "    for soln in backtrack(0, weights_sorted.copy(), order_list, list(reversed(range(10))), []):\n",
    "        weights_copy = weights.copy()\n",
    "        weight_soln_pair = [(weights_sorted[i],num) for i,num in zip(order, soln)]\n",
    "        assert sum(i*j for i,j in weight_soln_pair) == 0, \"Major error\"\n",
    "        final_soln = {}\n",
    "        for weight_val, soln_val in weight_soln_pair:\n",
    "            for char, weight in weights_copy.items():\n",
    "                if weight == weight_val:\n",
    "                    final_soln[char] = soln_val\n",
    "                    del weights_copy[char]\n",
    "                    break\n",
    "                    \n",
    "        if soln_format == \"eqn\":\n",
    "            #CONVERT TO EQN\n",
    "            eqn_copy = eqn\n",
    "            for k, v in final_soln.items():\n",
    "                eqn_copy = eqn_copy.replace(k, str(v))\n",
    "            yield eqn_copy\n",
    "        elif soln_format == \"dict\":\n",
    "            yield final_soln\n",
    "            \n",
    "def backtrack(val, weights, test_order, remaining, soln):\n",
    "    #Check if end\n",
    "    if len(test_order)==0:\n",
    "        if val==0: \n",
    "            yield soln\n",
    "        return False\n",
    "    #Check if possible\n",
    "    if sum([i*j for i,j in zip(remaining, reversed(weights))]) + val < 0: #max\n",
    "        return False\n",
    "    if sum([i*j for i,j in zip(remaining, weights)]) + val > 0: #min\n",
    "        return False\n",
    "    #Backtrack for each digit\n",
    "    order = test_order.pop()\n",
    "    weight = weights.pop(order)\n",
    "    for i, num in enumerate(remaining):\n",
    "        del remaining[i]\n",
    "        yield from backtrack(val+num*weight, weights, test_order, remaining, soln + [num])\n",
    "        remaining.insert(i, num)\n",
    "    weights.insert(order, weight)\n",
    "    test_order.append(order)\n",
    "    return False"
   ]
  },
  {
   "cell_type": "code",
   "execution_count": 3,
   "id": "f8c47f95",
   "metadata": {},
   "outputs": [
    {
     "name": "stdout",
     "output_type": "stream",
     "text": [
      "['11+88=99', '22+77=99', '33+66=99', '44+55=99', '55+44=99', '66+33=99', '77+22=99', '88+11=99', '11+77=88', '22+66=88', '33+55=88', '55+33=88', '66+22=88', '77+11=88', '11+66=77', '22+55=77', '33+44=77', '44+33=77', '55+22=77', '66+11=77', '11+55=66', '22+44=66', '44+22=66', '55+11=66', '11+44=55', '22+33=55', '33+22=55', '44+11=55', '11+33=44', '33+11=44', '11+22=33', '22+11=33']\n",
      "1.19 ms ± 0 ns per loop (mean ± std. dev. of 1 run, 1 loop each)\n"
     ]
    }
   ],
   "source": [
    "%%timeit -n 1 -r 1\n",
    "print([*solver('AA+BB=CC')])"
   ]
  },
  {
   "cell_type": "code",
   "execution_count": 4,
   "id": "9c271a81",
   "metadata": {},
   "outputs": [
    {
     "name": "stdout",
     "output_type": "stream",
     "text": [
      "['9567+1085=10652', '8542+0915=09457', '8432+0914=09346', '8324+0913=09237', '7643+0826=08469', '7649+0816=08465', '7534+0825=08359', '7531+0825=08356', '7539+0815=08354', '7429+0814=08243', '7316+0823=08139', '6851+0738=07589', '6853+0728=07581', '6524+0735=07259', '6415+0734=07149', '6419+0724=07143', '5849+0638=06487', '5732+0647=06379', '5731+0647=06378', '3821+0468=04289', '3829+0458=04287', '3712+0467=04179', '3719+0457=04176', '2819+0368=03187', '2817+0368=03185']\n",
      "1.63 ms ± 0 ns per loop (mean ± std. dev. of 1 run, 1 loop each)\n"
     ]
    }
   ],
   "source": [
    "%%timeit -n 1 -r 1\n",
    "print([*solver('SEND+MORE=MONEY')])"
   ]
  },
  {
   "cell_type": "code",
   "execution_count": 5,
   "id": "2a5fce56",
   "metadata": {},
   "outputs": [
    {
     "name": "stdout",
     "output_type": "stream",
     "text": [
      "['85112846+12328420=97441266']\n",
      "45.1 ms ± 0 ns per loop (mean ± std. dev. of 1 run, 1 loop each)\n"
     ]
    }
   ],
   "source": [
    "%%timeit -n 1 -r 1\n",
    "print([*solver('CORRECTS+REJECTED=MATTRESS')])"
   ]
  },
  {
   "cell_type": "code",
   "execution_count": 6,
   "id": "406e9cef",
   "metadata": {},
   "outputs": [
    {
     "name": "stdout",
     "output_type": "stream",
     "text": [
      "['65682+981849=1047531', '64672+870738=0935410']\n",
      "6.23 ms ± 0 ns per loop (mean ± std. dev. of 1 run, 1 loop each)\n"
     ]
    }
   ],
   "source": [
    "%%timeit -n 1 -r 1\n",
    "print([*solver('FIFTY+STATES=AMERICA')])"
   ]
  },
  {
   "cell_type": "code",
   "execution_count": 7,
   "id": "691ba250",
   "metadata": {},
   "outputs": [
    {
     "name": "stdout",
     "output_type": "stream",
     "text": [
      "['9428+1437=10865', '9438+1427=10865', '9265+1278=10543', '9275+1268=10543', '8653+0671=09324', '8673+0651=09324', '8643+0672=09315', '8673+0642=09315', '8612+0635=09247', '8632+0615=09247', '7642+0651=08293', '7652+0641=08293', '6918+0934=07852', '6938+0914=07852', '6918+0925=07843', '6928+0915=07843', '5928+0943=06871', '5948+0923=06871', '3857+0862=04719', '3867+0852=04719', '3612+0685=04297', '3682+0615=04297', '2918+0956=03874', '2958+0916=03874', '2918+0947=03865', '2948+0917=03865', '2846+0851=03697', '2856+0841=03697']\n",
      "5.6 ms ± 0 ns per loop (mean ± std. dev. of 1 run, 1 loop each)\n"
     ]
    }
   ],
   "source": [
    "%%timeit -n 1 -r 1\n",
    "print([*solver('CODE+GOLF=GREAT')])"
   ]
  },
  {
   "cell_type": "code",
   "execution_count": 8,
   "id": "7f87e6b2",
   "metadata": {},
   "outputs": [
    {
     "name": "stdout",
     "output_type": "stream",
     "text": [
      "[{'N': 4, 'T': 9, 'I': 7, 'H': 5, 'E': 8, 'O': 3, 'U': 1, 'S': 2, 'A': 6, 'D': 0}]\n",
      "3.92 ms ± 0 ns per loop (mean ± std. dev. of 1 run, 1 loop each)\n"
     ]
    }
   ],
   "source": [
    "%%timeit -n 1 -r 1\n",
    "print([*solver('NINETEEN+NINETEEN'+4*'+TEN'+5*'+NINE'+877*'+ONE'+'=THOUSAND', soln_format='dict')])"
   ]
  },
  {
   "cell_type": "code",
   "execution_count": 9,
   "id": "58765037",
   "metadata": {},
   "outputs": [],
   "source": [
    "def Ajax1234_f(a, b, r, c = {}, s = [], k = 0, l = [], A = [], B = []):\n",
    "    if not a and not b:\n",
    "        yield f\"{''.join(map(str, A))}+{''.join(map(str, B))}={''.join(map(str, l))}\"\n",
    "        return\n",
    "    for x in c.get(a[-1], range(10)):\n",
    "        if a[-1] in c or x not in s:\n",
    "            _c, _s = {**c, a[-1]:[x]}, s+[x]\n",
    "            for y in _c.get(b[-1], range(10)):\n",
    "                if b[-1] in _c or y not in _s:\n",
    "                    n_c, v = {**_c, b[-1]:[y]}, k+x+y\n",
    "                    n_s = _s+[y]\n",
    "                    if a[:-1] and b[:-1]:\n",
    "                        _v, _k = v%10, v//10\n",
    "                        if [_v] == n_c.get(r[-1], [_v])and (r[-1] in n_c or _v not in n_s):\n",
    "                            yield from Ajax1234_f(a[:-1], b[:-1], r[:-1], {**n_c, r[-1]:[_v]}, n_s+[_v], _k, [_v]+l, [x]+A, [y]+B)\n",
    "                    else:\n",
    "                        if len(str(v)) == len(r):\n",
    "                            F = 1\n",
    "                            for J, K in zip(r[::-1], str(v)[::-1]):\n",
    "                                if n_c.get(J, [int(K)]) == [int(K)] and (J in n_c or int(K) not in n_s):\n",
    "                                    n_c[J] = [int(K)]\n",
    "                                    n_s = n_s + [int(K)]\n",
    "                                else:\n",
    "                                    F = 0\n",
    "                                    break\n",
    "                            if F: yield from Ajax1234_f(a[:-1], b[:-1], '', n_c, n_s, 0, [v]+l, [x]+A, [y]+B) "
   ]
  },
  {
   "cell_type": "code",
   "execution_count": 10,
   "id": "850211b5",
   "metadata": {},
   "outputs": [
    {
     "name": "stdout",
     "output_type": "stream",
     "text": [
      "['11+22=33', '11+33=44', '11+44=55', '11+55=66', '11+66=77', '11+77=88', '11+88=99', '22+11=33', '22+33=55', '22+44=66', '22+55=77', '22+66=88', '22+77=99', '33+11=44', '33+22=55', '33+44=77', '33+55=88', '33+66=99', '44+11=55', '44+22=66', '44+33=77', '44+55=99', '55+11=66', '55+22=77', '55+33=88', '55+44=99', '66+11=77', '66+22=88', '66+33=99', '77+11=88', '77+22=99', '88+11=99']\n",
      "657 µs ± 0 ns per loop (mean ± std. dev. of 1 run, 1 loop each)\n"
     ]
    }
   ],
   "source": [
    "%%timeit -n 1 -r 1\n",
    "print([*Ajax1234_f('AA', 'BB', 'CC')])"
   ]
  },
  {
   "cell_type": "code",
   "execution_count": 11,
   "id": "9dcc36f8",
   "metadata": {},
   "outputs": [
    {
     "name": "stdout",
     "output_type": "stream",
     "text": [
      "['9567+1085=10652']\n",
      "11.2 ms ± 0 ns per loop (mean ± std. dev. of 1 run, 1 loop each)\n"
     ]
    }
   ],
   "source": [
    "%%timeit -n 1 -r 1\n",
    "print([*Ajax1234_f('SEND', 'MORE', 'MONEY')])"
   ]
  },
  {
   "cell_type": "code",
   "execution_count": 12,
   "id": "5e35d752",
   "metadata": {},
   "outputs": [
    {
     "name": "stdout",
     "output_type": "stream",
     "text": [
      "['85112846+12328420=97441266']\n",
      "2.22 ms ± 0 ns per loop (mean ± std. dev. of 1 run, 1 loop each)\n"
     ]
    }
   ],
   "source": [
    "%%timeit -n 1 -r 1\n",
    "print([*Ajax1234_f('CORRECTS', 'REJECTED', 'MATTRESS')])"
   ]
  },
  {
   "cell_type": "code",
   "execution_count": 13,
   "id": "c50f46e8",
   "metadata": {},
   "outputs": [
    {
     "name": "stdout",
     "output_type": "stream",
     "text": [
      "[]\n",
      "23.9 ms ± 0 ns per loop (mean ± std. dev. of 1 run, 1 loop each)\n"
     ]
    }
   ],
   "source": [
    "%%timeit -n 1 -r 1\n",
    "print([*Ajax1234_f('FIFTY', 'STATES', 'AMERICA')])"
   ]
  },
  {
   "cell_type": "code",
   "execution_count": 14,
   "id": "dd368e93",
   "metadata": {},
   "outputs": [
    {
     "name": "stdout",
     "output_type": "stream",
     "text": [
      "['9265+1278=10543', '9275+1268=10543', '9428+1437=10865', '9438+1427=10865']\n",
      "27.4 ms ± 0 ns per loop (mean ± std. dev. of 1 run, 1 loop each)\n"
     ]
    }
   ],
   "source": [
    "%%timeit -n 1 -r 1\n",
    "print([*Ajax1234_f('CODE', 'GOLF', 'GREAT')])"
   ]
  }
 ],
 "metadata": {
  "kernelspec": {
   "display_name": "Python 3 (ipykernel)",
   "language": "python",
   "name": "python3"
  },
  "language_info": {
   "codemirror_mode": {
    "name": "ipython",
    "version": 3
   },
   "file_extension": ".py",
   "mimetype": "text/x-python",
   "name": "python",
   "nbconvert_exporter": "python",
   "pygments_lexer": "ipython3",
   "version": "3.7.10"
  }
 },
 "nbformat": 4,
 "nbformat_minor": 5
}
